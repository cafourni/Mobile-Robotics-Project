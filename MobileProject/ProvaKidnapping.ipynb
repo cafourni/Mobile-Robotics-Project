{
 "cells": [
  {
   "cell_type": "code",
   "execution_count": 1,
   "metadata": {},
   "outputs": [
    {
     "data": {
      "text/plain": [
       "Node 5fd22109-7e01-4065-9ca2-9a71dffe7c8e"
      ]
     },
     "execution_count": 1,
     "metadata": {},
     "output_type": "execute_result"
    }
   ],
   "source": [
    "from tdmclient import ClientAsync,aw\n",
    "client = ClientAsync()\n",
    "node = await client.wait_for_node()\n",
    "\n",
    "await node.lock()"
   ]
  },
  {
   "cell_type": "code",
   "execution_count": 2,
   "metadata": {},
   "outputs": [],
   "source": [
    "import time\n",
    "import Kidnapping as k"
   ]
  },
  {
   "cell_type": "code",
   "execution_count": 3,
   "metadata": {},
   "outputs": [
    {
     "name": "stdout",
     "output_type": "stream",
     "text": [
      "[0, 0, 20]\n",
      "[0, 0, 20]\n",
      "[0, 0, 20]\n",
      "[0, 0, 20]\n",
      "[0, 0, 20]\n",
      "[0, 0, 20]\n",
      "[0, 0, 20]\n",
      "[0, 0, 20]\n",
      "[0, 0, 20]\n",
      "[0, 0, 20]\n"
     ]
    }
   ],
   "source": [
    "aw(node.wait_for_variables({\"acc\"}))\n",
    "for i in range(10):\n",
    "    print(list(node.v.acc))\n",
    "    await client.sleep(0.2)"
   ]
  },
  {
   "cell_type": "code",
   "execution_count": 5,
   "metadata": {},
   "outputs": [
    {
     "name": "stdout",
     "output_type": "stream",
     "text": [
      "22\n"
     ]
    }
   ],
   "source": [
    "acc_vert = k.read_acc_sensors(node, client)\n",
    "print(acc_vert)"
   ]
  },
  {
   "cell_type": "markdown",
   "metadata": {},
   "source": []
  }
 ],
 "metadata": {
  "kernelspec": {
   "display_name": "base",
   "language": "python",
   "name": "python3"
  },
  "language_info": {
   "codemirror_mode": {
    "name": "ipython",
    "version": 3
   },
   "file_extension": ".py",
   "mimetype": "text/x-python",
   "name": "python",
   "nbconvert_exporter": "python",
   "pygments_lexer": "ipython3",
   "version": "3.11.5"
  }
 },
 "nbformat": 4,
 "nbformat_minor": 2
}
