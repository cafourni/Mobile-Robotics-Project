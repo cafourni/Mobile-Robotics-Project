{
 "cells": [
  {
   "cell_type": "markdown",
   "metadata": {},
   "source": [
    "# Local Navigation"
   ]
  },
  {
   "cell_type": "code",
   "execution_count": 158,
   "metadata": {},
   "outputs": [],
   "source": [
    "import tdmclient.notebook\n",
    "await tdmclient.notebook.start()"
   ]
  },
  {
   "cell_type": "code",
   "execution_count": null,
   "metadata": {},
   "outputs": [],
   "source": []
  },
  {
   "cell_type": "code",
   "execution_count": null,
   "metadata": {},
   "outputs": [],
   "source": []
  },
  {
   "cell_type": "code",
   "execution_count": null,
   "metadata": {},
   "outputs": [],
   "source": []
  },
  {
   "cell_type": "code",
   "execution_count": 3,
   "metadata": {
    "ExecuteTime": {
     "end_time": "2021-10-01T19:58:24.377082Z",
     "start_time": "2021-10-01T19:57:58.599Z"
    }
   },
   "outputs": [],
   "source": [
    "        "
   ]
  },
  {
   "cell_type": "code",
   "execution_count": 31,
   "metadata": {},
   "outputs": [],
   "source": []
  },
  {
   "cell_type": "code",
   "execution_count": 153,
   "metadata": {
    "ExecuteTime": {
     "end_time": "2021-10-01T19:58:24.378081Z",
     "start_time": "2021-10-01T19:57:58.602Z"
    }
   },
   "outputs": [],
   "source": [
    "%%run_python\n",
    "\n",
    "#THIS IS THE NON POTENTIAL FIELD METHOD\n",
    "\n",
    "speed0 = 100       # nominal speed\n",
    "speedGain = 2      # gain used with ground gradient\n",
    "obstThrL = 100      # low obstacle threshold to switch state 1->0\n",
    "obstThrH = 200      # high obstacle threshold to switch state 0->1\n",
    "obstSpeedGain = 5  # /100 (actual gain: 5/100=0.05)\n",
    "\n",
    "state = 0          # 0=gradient, 1=obstacle avoidance\n",
    "obst = [0,0,0,0,0]       # measurements from left and right prox sensors\n",
    "\n",
    "timer_period[0] = 10   # 10ms sampling time\n",
    "\n",
    "\n",
    "@onevent \n",
    "def timer0():\n",
    "    global prox_ground_delta, prox_horizontal, motor_left_target, motor_right_target, state, obst, obstThrH, obstThrL, obstSpeedGain, speed0, speedGain \n",
    "\n",
    "    obst = [prox_horizontal[0], prox_horizontal[1], prox_horizontal[2], prox_horizontal[3], prox_horizontal[4]]\n",
    "    if state == 0: #State = 0 -> Global path\n",
    "        if (obst[0] > obstThrH):\n",
    "            state = 1\n",
    "        if (obst[1] > obstThrH):\n",
    "            state = 1\n",
    "        if (obst[2] > obstThrH):\n",
    "            state = 1\n",
    "        if (obst[3] > obstThrH):\n",
    "            state = 1\n",
    "        if (obst[4] > obstThrH):\n",
    "            state = 1\n",
    "        if (obst[1] > 10* obstThrH):\n",
    "            state = 2\n",
    "        if (obst[2] > 10* obstThrH):\n",
    "            state = 2\n",
    "        if (obst[3] > 10* obstThrH):\n",
    "            state = 2      \n",
    "    elif state == 1: #State = 1 -> Normal local navigation -> obstacles pop far from the thymio -> normal avoidance\n",
    "        if obst[0] < obstThrL:\n",
    "            if obst[1] < obstThrL:\n",
    "                if obst[2] < obstThrL:\n",
    "                    if obst[3] < obstThrL:\n",
    "                        if obst[4] < obstThrL:\n",
    "                            state = 0\n",
    "    elif state == 2: # State = 2 -> Rapid local navigation -> obstalces pop close to the thymio -> he go back to go in state 1\n",
    "        if obst[0] < obstThrL:\n",
    "            if obst[1] < obstThrL:\n",
    "                if obst[2] < obstThrL:\n",
    "                    if obst[3] < obstThrL:\n",
    "                        if obst[4] < obstThrL:\n",
    "                            state = 0\n",
    "                \n",
    "    if state == 0: # Function to return the thymio in the global path\n",
    "        leds_top = [0,0,0]\n",
    "        motor_left_target = speed0 \n",
    "        motor_right_target = speed0\n",
    "    if state == 1:\n",
    "        leds_top = [30,30,30]\n",
    "        if (obst[0] + obst[1] + obst[2]) > (obst[2] + obst[3] + obst[4]): # Turn on right\n",
    "            motor_left_target = speed0 + obstSpeedGain * ((obst[0] + obst[1] + obst[2]) // 100)\n",
    "            motor_right_target = speed0 + obstSpeedGain * ((obst[2] + obst[3] + obst[4]) // 100)\n",
    "        elif (obst[0] + obst[1] + obst[2]) < (obst[2] + obst[3] + obst[4]): #Turn on left\n",
    "            motor_left_target = speed0 + obstSpeedGain * ((obst[0] + obst[1] + obst[2]) // 100)\n",
    "            motor_right_target = speed0 + obstSpeedGain * ((obst[2] + obst[3] + obst[4]) // 100)\n",
    "        elif (obst[2] > 3 * obstThrH):#Arbitrary direction -> if obstacles in the middle , turn right slightly\n",
    "                motor_left_target = speed0 + 20*obstSpeedGain\n",
    "                motor_right_target = speed0 - 20*obstSpeedGain  \n",
    "    if state == 2:\n",
    "        motor_left_target = -10*speed0 \n",
    "        motor_right_target = -10*speed0 \n",
    "        \n",
    "                    \n",
    "        \n",
    "            \n",
    "        \n",
    "            \n",
    "    \n",
    "            "
   ]
  },
  {
   "cell_type": "code",
   "execution_count": 154,
   "metadata": {},
   "outputs": [],
   "source": [
    "%%run_python\n",
    "motor_right=0\n",
    "motor_left=0"
   ]
  },
  {
   "cell_type": "code",
   "execution_count": 171,
   "metadata": {},
   "outputs": [],
   "source": [
    "%%run_python\n",
    "\n",
    "# THIS IS THE POTENTIAL FIELD METHOD\n",
    "\n",
    "speed0 = 100      # nominal speed\n",
    "speedGain = 2     # gain used with ground gradient\n",
    "obstSpeedGain = [8, 6, -1, -4, -6]\n",
    "#obstSpeedGain = [6, 4, -2, -6, -8]    # /100\n",
    "                  # gains used with front proximity sensors 0..4\n",
    "state = 0\n",
    "obstThrL = 100      # low obstacle threshold to switch state 1->0\n",
    "obstThrH = 200      # high obstacle threshold to switch state 0->1\n",
    "obst = [0,0,0,0,0] \n",
    "timer_period[0] = 10  # 10ms sampling time\n",
    "\n",
    "@onevent \n",
    "def timer0():\n",
    "    global prox_horizontal, speed0, speedGain,obstSpeedGain, motor_left_target, motor_right_target, state, obstThrL, obstThrH\n",
    "    obst = [prox_horizontal[0], prox_horizontal[1], prox_horizontal[2], prox_horizontal[3], prox_horizontal[4]]\n",
    "    spLeft = speed0 \n",
    "    spRight = speed0\n",
    "    if state == 0: #State = 0 -> Global path\n",
    "        if (obst[0] > obstThrH):\n",
    "            state = 1\n",
    "        if (obst[1] > obstThrH):\n",
    "            state = 1\n",
    "        if (obst[2] > obstThrH):\n",
    "            state = 1\n",
    "        if (obst[3] > obstThrH):\n",
    "            state = 1\n",
    "        if (obst[4] > obstThrH):\n",
    "            state = 1     \n",
    "    elif state == 1: #State = 1 -> Normal local navigation -> obstacles pop far from the thymio -> normal avoidance\n",
    "        if obst[0] < obstThrL:\n",
    "            if obst[1] < obstThrL:\n",
    "                if obst[2] < obstThrL:\n",
    "                    if obst[3] < obstThrL:\n",
    "                        if obst[4] < obstThrL:\n",
    "                            state = 0\n",
    "    if state == 0:\n",
    "        spLeft = speed0 \n",
    "        spRight = speed0 \n",
    "    \n",
    "    if state == 1: \n",
    "        for i in range(5):\n",
    "            spLeft += obst[i] * obstSpeedGain[i] // 100\n",
    "            spRight += obst[i] * obstSpeedGain[4 - i] // 100\n",
    "        \n",
    "    motor_left_target = spLeft\n",
    "    motor_right_target = spRight"
   ]
  },
  {
   "cell_type": "code",
   "execution_count": 172,
   "metadata": {},
   "outputs": [],
   "source": [
    "%%run_python\n",
    "motor_right=0\n",
    "motor_left=0"
   ]
  },
  {
   "cell_type": "code",
   "execution_count": null,
   "metadata": {},
   "outputs": [],
   "source": []
  }
 ],
 "metadata": {
  "hide_input": false,
  "kernelspec": {
   "display_name": "Python 3",
   "language": "python",
   "name": "python3"
  },
  "language_info": {
   "codemirror_mode": {
    "name": "ipython",
    "version": 3
   },
   "file_extension": ".py",
   "mimetype": "text/x-python",
   "name": "python",
   "nbconvert_exporter": "python",
   "pygments_lexer": "ipython3",
   "version": "3.8.5"
  },
  "toc": {
   "base_numbering": 1,
   "nav_menu": {},
   "number_sections": true,
   "sideBar": true,
   "skip_h1_title": false,
   "title_cell": "Table of Contents",
   "title_sidebar": "Contents",
   "toc_cell": true,
   "toc_position": {
    "height": "calc(100% - 180px)",
    "left": "10px",
    "top": "150px",
    "width": "165px"
   },
   "toc_section_display": true,
   "toc_window_display": false
  }
 },
 "nbformat": 4,
 "nbformat_minor": 4
}
