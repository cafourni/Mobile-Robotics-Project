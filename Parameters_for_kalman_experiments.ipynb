{
 "cells": [
  {
   "cell_type": "markdown",
   "metadata": {},
   "source": [
    "Parameters selection\n",
    "\n",
    "# 1. Velocity conversion: from Thymio units to rad/s\n",
    "\n",
    "First goal is to convert the velocity of rotation of the wheels units from rad/s to the Thymio ones. Controller in fact will have as an input $v_r$ and $v_l$ in rad/s but will output them in Thymio Units to the plant.\n",
    "\n",
    "<table><tr> \n",
    "<td> <img src=\"photo_2023-11-23_20-33-54.jpg\" alt=\"photo_2023-11-23_20-33-54\" style=\"width: 250px;\"/> </td> \n",
    " \n",
    "</tr></table>\n",
    "\n",
    "The code provided is the one used to estimate the conversion factor. In order to reduce the human error it was run fr many times. Fr every wheel we run this code (changing the target velocities for the two motors). The code counts the time untill one presses the central button. So, one person counts a certain amount of rounds and sign the number counted in the variable num_rotations. Then with some simple counts given the number of rotations and the time needed to do it, the velocity of rotation is calculated. The final coefficient is the average of the coefficients extracted.\n",
    "In order to actually count the number of rounds we drew a green mark on the wheel."
   ]
  },
  {
   "cell_type": "code",
   "execution_count": 1,
   "metadata": {},
   "outputs": [
    {
     "data": {
      "text/plain": [
       "Node d4e6a400-466a-4476-a871-0ff69583670e"
      ]
     },
     "execution_count": 1,
     "metadata": {},
     "output_type": "execute_result"
    }
   ],
   "source": [
    "from tdmclient import ClientAsync\n",
    "import time\n",
    "client = ClientAsync()\n",
    "node = await client.wait_for_node()\n",
    "await node.lock()"
   ]
  },
  {
   "cell_type": "code",
   "execution_count": 15,
   "metadata": {},
   "outputs": [
    {
     "name": "stdout",
     "output_type": "stream",
     "text": [
      "43.129746437072754\n"
     ]
    }
   ],
   "source": [
    "pressed = 0\n",
    "await node.wait_for_variables({\"button.center\"})\n",
    "Thymio_speed = 100\n",
    "start = time.time()\n",
    "\n",
    "while not pressed:\n",
    "    v = {\"motor.left.target\": [0],\n",
    "        \"motor.right.target\": [Thymio_speed],\n",
    "            }\n",
    "    await node.set_variables(v)\n",
    "    pressed = node.v.button.center\n",
    "    \n",
    "end = time.time() \n",
    "\n",
    "v = {\"motor.left.target\": [0],\n",
    "        \"motor.right.target\": [0],\n",
    "            }   \n",
    "await node.set_variables(v)\n",
    "\n",
    "pressed = 0\n",
    "print(end-start)"
   ]
  },
  {
   "cell_type": "code",
   "execution_count": 37,
   "metadata": {},
   "outputs": [
    {
     "name": "stdout",
     "output_type": "stream",
     "text": [
      "68.55734467759507\n"
     ]
    }
   ],
   "source": [
    "C_conv_toThymio_right= 67.60908181\n",
    "C_conv_toThymio_left= 67.82946137\n"
   ]
  },
  {
   "cell_type": "markdown",
   "metadata": {},
   "source": [
    "![Alt text](image.png)"
   ]
  },
  {
   "cell_type": "code",
   "execution_count": 16,
   "metadata": {},
   "outputs": [],
   "source": [
    "await node.unlock()"
   ]
  },
  {
   "cell_type": "markdown",
   "metadata": {},
   "source": [
    "# 2. Velocity conversion: from $v_r$ and $v_l$ to $v$ and $\\omega$\n",
    "https://www.cs.columbia.edu/~allen/F17/NOTES/icckinematics.pdf \n",
    "\n",
    "Linear velocity is the average of the speeds of the two wheels.\n",
    "$ v = R\\cdot \\frac{v_{\\text{r}} + v_{\\text{l}}}{2}  $\n",
    "\n",
    "Angular velocity depends on the difference in speed of the two wheels and the distance between them (wheelbase). If L is the distance between the centers of the two wheels, then:\n",
    "$\\omega = R \\cdot\\frac{v_{\\text{r}} - v_{\\text{l}}}{L} $ \n",
    "\n",
    "\n",
    "Given that we obtain:\n",
    "\n",
    "$v_{r} = \\frac{2v+\\omega L}{2R}$ ,\n",
    "\n",
    "$v_{l} = \\frac{2v-\\omega L}{2R}$\n"
   ]
  },
  {
   "cell_type": "markdown",
   "metadata": {},
   "source": [
    "From the datasheet of the Thymio we have R and L parameters:\n",
    "R=20 mm\n",
    "L= 105 mm"
   ]
  },
  {
   "cell_type": "code",
   "execution_count": null,
   "metadata": {},
   "outputs": [],
   "source": [
    "def convert_velocity(motor_right_speed, motor_left_speed,C_conv_toThymio_right, C_conv_toThymio_left, L, R):\n",
    "    vr_rads= motor_right_speed/C_conv_toThymio_right\n",
    "    vl_rads= motor_left_speed/C_conv_toThymio_left\n",
    "    v=R* (vr_rads+vl_rads)/2   \n",
    "    w=R*(vr_rads-vl_rads)/L\n",
    "    return v, w\n"
   ]
  },
  {
   "cell_type": "markdown",
   "metadata": {},
   "source": [
    "# 3. Esteem of Q: covariance matrix for the process noise\n",
    "\n",
    "--> see Q_matrix_esteem.ipynb\n",
    "\n",
    "$$\n",
    "Q = \n",
    "\\begin{bmatrix}\n",
    "0.1366108 & 0 & 0 \\\\\n",
    "0 & 0.13661 & 0 \\\\\n",
    "0 & 0 & 0.00005\n",
    "\\end{bmatrix}\n",
    "$$"
   ]
  },
  {
   "cell_type": "code",
   "execution_count": 1,
   "metadata": {},
   "outputs": [],
   "source": [
    "import numpy as np\n",
    "\n",
    "Q = np.array([[0.13661, 0, 0],[0 ,0.13661, 0], [0, 0, 0.00005]])"
   ]
  },
  {
   "cell_type": "markdown",
   "metadata": {},
   "source": [
    "# 4. Esteem of R: covariance matrix for the measurement noise\n",
    "\n",
    "Experiment set-up:\n",
    "\n",
    "We printed four gridded A3 papers where the various positions where measured thanks to a reference system.\n",
    "We moved the robot in various positions (x,y $\\theta$) and we noted these coordinates while saving also the coordinates given by the camera:"
   ]
  },
  {
   "cell_type": "code",
   "execution_count": 1,
   "metadata": {},
   "outputs": [],
   "source": [
    "import numpy as np\n",
    "measured_coordinates=np.array([[0,0,0],[0,0,0],[0,0,0]]) #insert here the coordinates measured with the camera\n",
    "real_coordinates=np.array([[0,0,0],[0,0,0],[0,0,0]]) #insert here the real coordinates of the Thymio"
   ]
  },
  {
   "cell_type": "markdown",
   "metadata": {},
   "source": [
    "Moreover, we need the vector describing the translation between the two reference systems: the one of the camera and the one used for measuring the real positions:"
   ]
  },
  {
   "cell_type": "code",
   "execution_count": null,
   "metadata": {},
   "outputs": [],
   "source": [
    "transformation_systems=np.array( 0, 0, 0)\n",
    "#eventually you could need to tranfrom the data from the camera into the same units of the real coordinates\n",
    "\n",
    "measured_coordinates= measured_coordinates-transformation_systems\n",
    "error=measured_coordinates-real_coordinates"
   ]
  },
  {
   "cell_type": "markdown",
   "metadata": {},
   "source": [
    "Then we can estimate the various elements we need:\n",
    "var_x = np.var(error)"
   ]
  }
 ],
 "metadata": {
  "kernelspec": {
   "display_name": "base",
   "language": "python",
   "name": "python3"
  },
  "language_info": {
   "codemirror_mode": {
    "name": "ipython",
    "version": 3
   },
   "file_extension": ".py",
   "mimetype": "text/x-python",
   "name": "python",
   "nbconvert_exporter": "python",
   "pygments_lexer": "ipython3",
   "version": "3.11.5"
  }
 },
 "nbformat": 4,
 "nbformat_minor": 2
}
