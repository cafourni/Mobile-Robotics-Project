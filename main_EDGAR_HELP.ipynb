{
 "cells": [
  {
   "cell_type": "code",
   "execution_count": 1,
   "metadata": {},
   "outputs": [
    {
     "data": {
      "text/plain": [
       "Node 5fd22109-7e01-4065-9ca2-9a71dffe7c8e"
      ]
     },
     "execution_count": 1,
     "metadata": {},
     "output_type": "execute_result"
    }
   ],
   "source": [
    "from tdmclient import ClientAsync\n",
    "client = ClientAsync()\n",
    "node = await client.wait_for_node()\n",
    "await node.lock()"
   ]
  },
  {
   "cell_type": "code",
   "execution_count": 2,
   "metadata": {},
   "outputs": [],
   "source": [
    "import Local_NAV as local\n",
    "import Global_NAV as glob\n",
    "import Motion_CTR_ as mctrl\n",
    "import Kalman_FIL as kfil\n",
    "import math\n",
    "import numpy as np\n",
    "import matplotlib.pyplot as plt\n",
    "import cv2\n",
    "import os\n",
    "import IPython\n",
    "from IPython.display import display, clear_output\n",
    "import time\n",
    "\n",
    "from matplotlib import colors\n",
    "from cvision import *\n",
    "\n",
    "%matplotlib inline"
   ]
  },
  {
   "cell_type": "code",
   "execution_count": 4,
   "metadata": {
    "scrolled": true
   },
   "outputs": [
    {
     "ename": "KeyboardInterrupt",
     "evalue": "",
     "output_type": "error",
     "traceback": [
      "\u001b[1;31m---------------------------------------------------------------------------\u001b[0m",
      "\u001b[1;31mKeyboardInterrupt\u001b[0m                         Traceback (most recent call last)",
      "\u001b[1;32mc:\\Users\\eaell\\Documents\\epfl\\ma1\\MICRO-452 Basics of mobile robotics\\project\\main_EDGAR_HELP.ipynb Cell 3\u001b[0m line \u001b[0;36m8\n\u001b[0;32m     <a href='vscode-notebook-cell:/c%3A/Users/eaell/Documents/epfl/ma1/MICRO-452%20Basics%20of%20mobile%20robotics/project/main_EDGAR_HELP.ipynb#W2sZmlsZQ%3D%3D?line=85'>86</a>\u001b[0m                 z_k_observation_vector \u001b[39m=\u001b[39m np\u001b[39m.\u001b[39marray([thymio\u001b[39m.\u001b[39mlocalize(frame,\u001b[39mmap\u001b[39m)[\u001b[39m0\u001b[39m][\u001b[39m0\u001b[39m],thymio\u001b[39m.\u001b[39mlocalize(frame,\u001b[39mmap\u001b[39m)[\u001b[39m0\u001b[39m][\u001b[39m1\u001b[39m],vector_to_angle(thymio\u001b[39m.\u001b[39mlocalize(frame,\u001b[39mmap\u001b[39m)[\u001b[39m1\u001b[39m])]) \n\u001b[0;32m     <a href='vscode-notebook-cell:/c%3A/Users/eaell/Documents/epfl/ma1/MICRO-452%20Basics%20of%20mobile%20robotics/project/main_EDGAR_HELP.ipynb#W2sZmlsZQ%3D%3D?line=86'>87</a>\u001b[0m                 \u001b[39m#[state_estimate_k,_] = kfil.ekf(z_k_observation_vector, state_estimate_k, [v,w] , P_k_minus_1, Ts)\u001b[39;00m\n\u001b[1;32m---> <a href='vscode-notebook-cell:/c%3A/Users/eaell/Documents/epfl/ma1/MICRO-452%20Basics%20of%20mobile%20robotics/project/main_EDGAR_HELP.ipynb#W2sZmlsZQ%3D%3D?line=87'>88</a>\u001b[0m     clear_output(wait\u001b[39m=\u001b[39;49m\u001b[39mTrue\u001b[39;49;00m)\n\u001b[0;32m     <a href='vscode-notebook-cell:/c%3A/Users/eaell/Documents/epfl/ma1/MICRO-452%20Basics%20of%20mobile%20robotics/project/main_EDGAR_HELP.ipynb#W2sZmlsZQ%3D%3D?line=88'>89</a>\u001b[0m \u001b[39m    \u001b[39m\u001b[39m\"\"\" if np.linalg.norm(state_estimate_k[:2] - np.array([x_goal_temp, y_goal_temp])) < threshold_for_convergence:\u001b[39;00m\n\u001b[0;32m     <a href='vscode-notebook-cell:/c%3A/Users/eaell/Documents/epfl/ma1/MICRO-452%20Basics%20of%20mobile%20robotics/project/main_EDGAR_HELP.ipynb#W2sZmlsZQ%3D%3D?line=89'>90</a>\u001b[0m \u001b[39m        k = k+1\u001b[39;00m\n\u001b[0;32m     <a href='vscode-notebook-cell:/c%3A/Users/eaell/Documents/epfl/ma1/MICRO-452%20Basics%20of%20mobile%20robotics/project/main_EDGAR_HELP.ipynb#W2sZmlsZQ%3D%3D?line=90'>91</a>\u001b[0m \u001b[39m        if k == N-1:\u001b[39;00m\n\u001b[1;32m   (...)\u001b[0m\n\u001b[0;32m     <a href='vscode-notebook-cell:/c%3A/Users/eaell/Documents/epfl/ma1/MICRO-452%20Basics%20of%20mobile%20robotics/project/main_EDGAR_HELP.ipynb#W2sZmlsZQ%3D%3D?line=93'>94</a>\u001b[0m \u001b[39m        break \u001b[39;00m\n\u001b[0;32m     <a href='vscode-notebook-cell:/c%3A/Users/eaell/Documents/epfl/ma1/MICRO-452%20Basics%20of%20mobile%20robotics/project/main_EDGAR_HELP.ipynb#W2sZmlsZQ%3D%3D?line=94'>95</a>\u001b[0m \u001b[39m    time.sleep(Ts)  \"\"\"\u001b[39;00m\n\u001b[0;32m     <a href='vscode-notebook-cell:/c%3A/Users/eaell/Documents/epfl/ma1/MICRO-452%20Basics%20of%20mobile%20robotics/project/main_EDGAR_HELP.ipynb#W2sZmlsZQ%3D%3D?line=95'>96</a>\u001b[0m state \u001b[39m=\u001b[39m \u001b[39m3\u001b[39m                                               \n",
      "File \u001b[1;32m~\\AppData\\Roaming\\Python\\Python311\\site-packages\\IPython\\core\\display_functions.py:386\u001b[0m, in \u001b[0;36mclear_output\u001b[1;34m(wait)\u001b[0m\n\u001b[0;32m    384\u001b[0m \u001b[39mfrom\u001b[39;00m \u001b[39mIPython\u001b[39;00m\u001b[39m.\u001b[39;00m\u001b[39mcore\u001b[39;00m\u001b[39m.\u001b[39;00m\u001b[39minteractiveshell\u001b[39;00m \u001b[39mimport\u001b[39;00m InteractiveShell\n\u001b[0;32m    385\u001b[0m \u001b[39mif\u001b[39;00m InteractiveShell\u001b[39m.\u001b[39minitialized():\n\u001b[1;32m--> 386\u001b[0m     InteractiveShell\u001b[39m.\u001b[39;49minstance()\u001b[39m.\u001b[39;49mdisplay_pub\u001b[39m.\u001b[39;49mclear_output(wait)\n\u001b[0;32m    387\u001b[0m \u001b[39melse\u001b[39;00m:\n\u001b[0;32m    388\u001b[0m     \u001b[39mprint\u001b[39m(\u001b[39m'\u001b[39m\u001b[39m\\033\u001b[39;00m\u001b[39m[2K\u001b[39m\u001b[39m\\r\u001b[39;00m\u001b[39m'\u001b[39m, end\u001b[39m=\u001b[39m\u001b[39m'\u001b[39m\u001b[39m'\u001b[39m)\n",
      "File \u001b[1;32m~\\AppData\\Roaming\\Python\\Python311\\site-packages\\ipykernel\\zmqshell.py:155\u001b[0m, in \u001b[0;36mZMQDisplayPublisher.clear_output\u001b[1;34m(self, wait)\u001b[0m\n\u001b[0;32m    152\u001b[0m     \u001b[39mif\u001b[39;00m msg \u001b[39mis\u001b[39;00m \u001b[39mNone\u001b[39;00m:\n\u001b[0;32m    153\u001b[0m         \u001b[39mreturn\u001b[39;00m\n\u001b[1;32m--> 155\u001b[0m \u001b[39mself\u001b[39;49m\u001b[39m.\u001b[39;49msession\u001b[39m.\u001b[39;49msend(\n\u001b[0;32m    156\u001b[0m     \u001b[39mself\u001b[39;49m\u001b[39m.\u001b[39;49mpub_socket,\n\u001b[0;32m    157\u001b[0m     msg,\n\u001b[0;32m    158\u001b[0m     ident\u001b[39m=\u001b[39;49m\u001b[39mself\u001b[39;49m\u001b[39m.\u001b[39;49mtopic,\n\u001b[0;32m    159\u001b[0m )\n",
      "File \u001b[1;32m~\\AppData\\Roaming\\Python\\Python311\\site-packages\\jupyter_client\\session.py:861\u001b[0m, in \u001b[0;36mSession.send\u001b[1;34m(self, stream, msg_or_type, content, parent, ident, buffers, track, header, metadata)\u001b[0m\n\u001b[0;32m    858\u001b[0m \u001b[39melif\u001b[39;00m stream:\n\u001b[0;32m    859\u001b[0m     \u001b[39m# use dummy tracker, which will be done immediately\u001b[39;00m\n\u001b[0;32m    860\u001b[0m     tracker \u001b[39m=\u001b[39m DONE\n\u001b[1;32m--> 861\u001b[0m     stream\u001b[39m.\u001b[39;49msend_multipart(to_send, copy\u001b[39m=\u001b[39;49mcopy)\n\u001b[0;32m    863\u001b[0m \u001b[39mif\u001b[39;00m \u001b[39mself\u001b[39m\u001b[39m.\u001b[39mdebug:\n\u001b[0;32m    864\u001b[0m     pprint\u001b[39m.\u001b[39mpprint(msg)  \u001b[39m# noqa\u001b[39;00m\n",
      "File \u001b[1;32m~\\AppData\\Roaming\\Python\\Python311\\site-packages\\ipykernel\\iostream.py:346\u001b[0m, in \u001b[0;36mBackgroundSocket.send_multipart\u001b[1;34m(self, *args, **kwargs)\u001b[0m\n\u001b[0;32m    344\u001b[0m \u001b[39m\u001b[39m\u001b[39m\"\"\"Schedule send in IO thread\"\"\"\u001b[39;00m\n\u001b[0;32m    345\u001b[0m \u001b[39massert\u001b[39;00m \u001b[39mself\u001b[39m\u001b[39m.\u001b[39mio_thread \u001b[39mis\u001b[39;00m \u001b[39mnot\u001b[39;00m \u001b[39mNone\u001b[39;00m\n\u001b[1;32m--> 346\u001b[0m \u001b[39mreturn\u001b[39;00m \u001b[39mself\u001b[39;49m\u001b[39m.\u001b[39;49mio_thread\u001b[39m.\u001b[39;49msend_multipart(\u001b[39m*\u001b[39;49margs, \u001b[39m*\u001b[39;49m\u001b[39m*\u001b[39;49mkwargs)\n",
      "File \u001b[1;32m~\\AppData\\Roaming\\Python\\Python311\\site-packages\\ipykernel\\iostream.py:276\u001b[0m, in \u001b[0;36mIOPubThread.send_multipart\u001b[1;34m(self, *args, **kwargs)\u001b[0m\n\u001b[0;32m    271\u001b[0m \u001b[39mdef\u001b[39;00m \u001b[39msend_multipart\u001b[39m(\u001b[39mself\u001b[39m, \u001b[39m*\u001b[39margs, \u001b[39m*\u001b[39m\u001b[39m*\u001b[39mkwargs):\n\u001b[0;32m    272\u001b[0m \u001b[39m    \u001b[39m\u001b[39m\"\"\"send_multipart schedules actual zmq send in my thread.\u001b[39;00m\n\u001b[0;32m    273\u001b[0m \n\u001b[0;32m    274\u001b[0m \u001b[39m    If my thread isn't running (e.g. forked process), send immediately.\u001b[39;00m\n\u001b[0;32m    275\u001b[0m \u001b[39m    \"\"\"\u001b[39;00m\n\u001b[1;32m--> 276\u001b[0m     \u001b[39mself\u001b[39;49m\u001b[39m.\u001b[39;49mschedule(\u001b[39mlambda\u001b[39;49;00m: \u001b[39mself\u001b[39;49m\u001b[39m.\u001b[39;49m_really_send(\u001b[39m*\u001b[39;49margs, \u001b[39m*\u001b[39;49m\u001b[39m*\u001b[39;49mkwargs))\n",
      "File \u001b[1;32m~\\AppData\\Roaming\\Python\\Python311\\site-packages\\ipykernel\\iostream.py:267\u001b[0m, in \u001b[0;36mIOPubThread.schedule\u001b[1;34m(self, f)\u001b[0m\n\u001b[0;32m    265\u001b[0m     \u001b[39mself\u001b[39m\u001b[39m.\u001b[39m_events\u001b[39m.\u001b[39mappend(f)\n\u001b[0;32m    266\u001b[0m     \u001b[39m# wake event thread (message content is ignored)\u001b[39;00m\n\u001b[1;32m--> 267\u001b[0m     \u001b[39mself\u001b[39;49m\u001b[39m.\u001b[39;49m_event_pipe\u001b[39m.\u001b[39;49msend(\u001b[39mb\u001b[39;49m\u001b[39m\"\u001b[39;49m\u001b[39m\"\u001b[39;49m)\n\u001b[0;32m    268\u001b[0m \u001b[39melse\u001b[39;00m:\n\u001b[0;32m    269\u001b[0m     f()\n",
      "File \u001b[1;32m~\\AppData\\Roaming\\Python\\Python311\\site-packages\\zmq\\sugar\\socket.py:696\u001b[0m, in \u001b[0;36mSocket.send\u001b[1;34m(self, data, flags, copy, track, routing_id, group)\u001b[0m\n\u001b[0;32m    689\u001b[0m         data \u001b[39m=\u001b[39m zmq\u001b[39m.\u001b[39mFrame(\n\u001b[0;32m    690\u001b[0m             data,\n\u001b[0;32m    691\u001b[0m             track\u001b[39m=\u001b[39mtrack,\n\u001b[0;32m    692\u001b[0m             copy\u001b[39m=\u001b[39mcopy \u001b[39mor\u001b[39;00m \u001b[39mNone\u001b[39;00m,\n\u001b[0;32m    693\u001b[0m             copy_threshold\u001b[39m=\u001b[39m\u001b[39mself\u001b[39m\u001b[39m.\u001b[39mcopy_threshold,\n\u001b[0;32m    694\u001b[0m         )\n\u001b[0;32m    695\u001b[0m     data\u001b[39m.\u001b[39mgroup \u001b[39m=\u001b[39m group\n\u001b[1;32m--> 696\u001b[0m \u001b[39mreturn\u001b[39;00m \u001b[39msuper\u001b[39;49m()\u001b[39m.\u001b[39;49msend(data, flags\u001b[39m=\u001b[39;49mflags, copy\u001b[39m=\u001b[39;49mcopy, track\u001b[39m=\u001b[39;49mtrack)\n",
      "File \u001b[1;32mzmq\\\\backend\\\\cython\\\\socket.pyx:742\u001b[0m, in \u001b[0;36mzmq.backend.cython.socket.Socket.send\u001b[1;34m()\u001b[0m\n",
      "File \u001b[1;32mzmq\\\\backend\\\\cython\\\\socket.pyx:789\u001b[0m, in \u001b[0;36mzmq.backend.cython.socket.Socket.send\u001b[1;34m()\u001b[0m\n",
      "File \u001b[1;32mzmq\\\\backend\\\\cython\\\\socket.pyx:250\u001b[0m, in \u001b[0;36mzmq.backend.cython.socket._send_copy\u001b[1;34m()\u001b[0m\n",
      "File \u001b[1;32m~\\AppData\\Roaming\\Python\\Python311\\site-packages\\zmq\\backend\\cython\\checkrc.pxd:13\u001b[0m, in \u001b[0;36mzmq.backend.cython.checkrc._check_rc\u001b[1;34m()\u001b[0m\n",
      "\u001b[1;31mKeyboardInterrupt\u001b[0m: "
     ]
    }
   ],
   "source": [
    "#Global variables\n",
    "state = 0\n",
    "obst = [0,0,0,0,0]\n",
    "motors_speed = [0,0]\n",
    "not_arrived = True\n",
    "k = 0\n",
    "C_conv_toThymio_right = 67.60908181\n",
    "C_conv_toThymio_left = 67.82946137\n",
    "L = 104\n",
    "R = 20\n",
    "Ts = 0.02 # sampling time\n",
    "\n",
    "\n",
    "if state == 0:\n",
    "    # Definition of the references used to map the space\n",
    "    color_ref1 = cv2.imread('ref1.jpg')\n",
    "    ref1 = Obj(color_ref1, 50, 2, np.array([[0,0]]))\n",
    "    color_ref2 = cv2.imread('ref2.jpg')\n",
    "    ref2 = Obj(color_ref2, 100, 2, np.array([[0,0]]))\n",
    "    color_ref3 = cv2.imread('ref3.jpg')\n",
    "    ref3 = Obj(color_ref3, 100, 2, np.array([[0,0]]))\n",
    "    map = Map(ref1, ref2, ref3)\n",
    "\n",
    "    # Definition of the objects to recognize in the space\n",
    "    color_obstacle = cv2.imread('obstacle.jpg')\n",
    "    obstacle = Obj(color_obstacle, 700, 4)\n",
    "    color_goal = cv2.imread('goal.jpg')\n",
    "    goal = Obj(color_goal, 100, 4)\n",
    "    color_left_mark = cv2.imread('left_mark.jpg')\n",
    "    left_mark = Obj(color_left_mark, 50, 2)\n",
    "    color_right_mark = cv2.imread('right_mark.jpg')\n",
    "    right_mark = Obj(color_right_mark, 50, 2)\n",
    "    thymio = Robot(right_mark, left_mark)\n",
    "\n",
    "    # Open the video\n",
    "    # For a livestream\n",
    "    #video = cv2.VideoCapture(0)\n",
    "    # or with a prerecorded video\n",
    "    video = cv2.VideoCapture('test3.avi')\n",
    "    if (video.isOpened()== False): \n",
    "        print(\"Error opening video stream or file\")\n",
    "    \n",
    "    # Recognition of the view with the map and path planning\n",
    "    path_found = False\n",
    "    while not (path_found):\n",
    "        ret, frame = video.read()\n",
    "        if ret == True:\n",
    "            matrix = map.matrix(frame, [obstacle], thymio, goal)\n",
    "            if glob.check_matrix(matrix):\n",
    "                path = glob.global_path(matrix)\n",
    "                N = len(path)\n",
    "                path_found = True\n",
    "                print('Path :', path)\n",
    "                print('Robot position : ', thymio.localize(frame,map)[0])\n",
    "                print('Robot direction : ', vector_to_angle(thymio.localize(frame,map)[1]))\n",
    "                state_estimate_k = np.array([thymio.localize(frame,map)[0,0],thymio.localize(frame,map)[0,1],vector_to_angle(thymio.localize(frame,map)[1])]) \n",
    "    \n",
    "    # Navigation\n",
    "    state = 1    \n",
    "    # Global navigation state\n",
    "    if state == 1:\n",
    "\n",
    "        while not_arrived == True:\n",
    "            \"\"\" \n",
    "            prox_horizontal = local.read_prox_sensors(node,client)\n",
    "            obst = [prox_horizontal[0], prox_horizontal[1], prox_horizontal[2], prox_horizontal[3], prox_horizontal[4]]\n",
    "            state = local.update_state(state,obst,client)\n",
    "            x_goal_temp = path[1,k]\n",
    "            y_goal_temp = path[2,k]\n",
    "            if k < N-1:\n",
    "                theta_goal_temp = (math.atan2(x_goal[k+1]-x_goal[k], y_goal[k+1]-y_goal[k]) + np.pi) % (np.pi/2) - np.pi\n",
    "            v, w = mctrl.control_law(state_estimate_k, x_goal_temp, y_goal_temp, theta_goal_temp, Kv, Kp_alpha, Kp_beta)\n",
    "            vr, vl = mctrl.convert_velocity2RL(v,w,C_conv_toThymio_right, C_conv_toThymio_left,L,R)\n",
    "            vr = int(vr)\n",
    "            vl = int(vl)\n",
    "            set_motors(vl,vr,node) \"\"\"\n",
    "            camera_obstructed = 0\n",
    "            if camera_obstructed == 1 or video.isOpened == False:\n",
    "                z_k_observation_vector = np.array([state_estimate_k[0], state_estimate_k[1], state_estimate_k[2]])\n",
    "            if camera_obstructed == 0 :\n",
    "                ret, frame = video.read()\n",
    "                if ret == True:\n",
    "                    if np.size(thymio.localize(frame,map)[1], 0) > 0:\n",
    "                        print('Robot position : ', thymio.localize(frame,map)[0])\n",
    "                        print('Robot direction : ', vector_to_angle(thymio.localize(frame,map)[1]))\n",
    "                        z_k_observation_vector = np.array([thymio.localize(frame,map)[0][0],thymio.localize(frame,map)[0][1],vector_to_angle(thymio.localize(frame,map)[1])]) \n",
    "                        #[state_estimate_k,_] = kfil.ekf(z_k_observation_vector, state_estimate_k, [v,w] , P_k_minus_1, Ts)\n",
    "            clear_output(wait=True)\n",
    "            \"\"\" if np.linalg.norm(state_estimate_k[:2] - np.array([x_goal_temp, y_goal_temp])) < threshold_for_convergence:\n",
    "                k = k+1\n",
    "                if k == N-1:\n",
    "                    not_arrived = False\n",
    "                    print('The robot has arrived to the final goal')\n",
    "                break \n",
    "            time.sleep(Ts)  \"\"\"\n",
    "        state = 3                                               \n",
    "\n",
    "\n",
    "    # Local navigation state\n",
    "    if state == 2: \n",
    "        \n",
    "        #We get the sensor value\n",
    "        prox_horizontal = local.read_prox_sensors(node,client)\n",
    "        \n",
    "        #We fill the obst list with the sensor value\n",
    "        obst = [prox_horizontal[0], prox_horizontal[1], prox_horizontal[2], prox_horizontal[3], prox_horizontal[4]]\n",
    "        \n",
    "        #We calculate the motor speed to avoid the object -> potential field method\n",
    "        motors_speed = local.local_navigation(obst)\n",
    "        \n",
    "        #We set the motor speed\n",
    "        mctrl.set_motors(motors_speed[0],motors_speed[1],node)       \n",
    "        \n",
    "        #We update the state\n",
    "        state = local.update_state(state,obst,client)   \n"
   ]
  },
  {
   "cell_type": "code",
   "execution_count": 9,
   "metadata": {},
   "outputs": [],
   "source": [
    "motors_speed = local.global_path()\n",
    "local.set_motors(motors_speed[0],motors_speed[1],node) \n",
    "local.stop_motors(node) \n"
   ]
  },
  {
   "cell_type": "code",
   "execution_count": null,
   "metadata": {},
   "outputs": [],
   "source": []
  },
  {
   "cell_type": "code",
   "execution_count": null,
   "metadata": {},
   "outputs": [],
   "source": []
  }
 ],
 "metadata": {
  "kernelspec": {
   "display_name": "Python 3",
   "language": "python",
   "name": "python3"
  },
  "language_info": {
   "codemirror_mode": {
    "name": "ipython",
    "version": 3
   },
   "file_extension": ".py",
   "mimetype": "text/x-python",
   "name": "python",
   "nbconvert_exporter": "python",
   "pygments_lexer": "ipython3",
   "version": "3.11.5"
  }
 },
 "nbformat": 4,
 "nbformat_minor": 4
}
